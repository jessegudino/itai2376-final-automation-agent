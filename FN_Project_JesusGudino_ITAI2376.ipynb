{
  "nbformat": 4,
  "nbformat_minor": 0,
  "metadata": {
    "colab": {
      "provenance": []
    },
    "kernelspec": {
      "name": "python3",
      "display_name": "Python 3"
    },
    "language_info": {
      "name": "python"
    }
  },
  "cells": [
    {
      "cell_type": "markdown",
      "source": [
        "# Final Project: Process Automation Agent\n",
        "**Student:** Jesus Gudino  \n",
        "**Course:** ITAI 2376 - Deep Learning  \n",
        "**Instructor:** Prof. Anna Devarakonda  \n",
        "\n",
        "## 📌 Project Description\n",
        "This project simulates a process automation agent using Python. It generates and sends an email using a simple function and logs the timestamp when the email is sent. It demonstrates automation logic and datetime tracking using only Python.\n",
        "\n",
        "## 🛠️ What It Does\n",
        "- Defines sender, recipient, subject, and message\n",
        "- Creates the email body using Python\n",
        "- Simulates sending an email\n",
        "- Records and prints the time it was sent\n",
        "\n",
        "## ✅ Output Sample\n",
        "- Message \"Email Sent (Simulated)\" is displayed in Colab\n",
        "- Shows email details: sender, recipient, subject, and body\n",
        "- Logs the send time using `datetime.now()`\n",
        "\n",
        "## 💻 How to Run\n",
        "1. Open the Colab notebook\n",
        "2. Click **Runtime > Run all**\n",
        "3. Watch the output and email log simulate in the cells\n",
        "\n",
        "## 📝 Notes\n",
        "- No API keys or external credentials are required\n",
        "- Gmail sending is simulated, not actually transmitted\n",
        "\n",
        "## 📁 File Name\n",
        "`FN_Project_JesusGudino_ITAI2376.ipynb`\n"
      ],
      "metadata": {
        "id": "sybFL7xoNXCq"
      }
    },
    {
      "cell_type": "code",
      "execution_count": 1,
      "metadata": {
        "id": "3tsWt8q_KZF6"
      },
      "outputs": [],
      "source": [
        "from email.mime.text import MIMEText\n",
        "\n",
        "# This function builds the email message structure\n",
        "def create_message(sender, to, subject, body):\n",
        "    message = MIMEText(body)\n",
        "    message['to'] = to\n",
        "    message['from'] = sender\n",
        "    message['subject'] = subject\n",
        "    return message\n"
      ]
    },
    {
      "cell_type": "code",
      "source": [
        "# This simulates sending the email (for demo purposes only)\n",
        "def send_email(service, user_id, message):\n",
        "    print(\"✅ Email Sent (Simulated)\")\n",
        "    print(\"From:\", message['from'])\n",
        "    print(\"To:\", message['to'])\n",
        "    print(\"Subject:\", message['subject'])\n",
        "    print(\"Body:\", message.get_payload())\n"
      ],
      "metadata": {
        "id": "L3093jDQKdwy"
      },
      "execution_count": 2,
      "outputs": []
    },
    {
      "cell_type": "code",
      "source": [
        "# Set your message details\n",
        "sender = \"jessegudino@gmail.com\"\n",
        "to = \"jessegudino@gmail.com\"\n",
        "subject = \"Final Project Confirmation\"\n",
        "body = \"\"\"Hi Jesse,\n",
        "\n",
        "This is a confirmation that your final project for ITAI 2376 has been successfully created and automated using Python.\n",
        "\n",
        "– StudioBot (Your AI Assistant)\n",
        "\"\"\"\n",
        "\n",
        "# Create and simulate sending\n",
        "message = create_message(sender, to, subject, body)\n",
        "send_email(None, \"me\", message)\n"
      ],
      "metadata": {
        "colab": {
          "base_uri": "https://localhost:8080/"
        },
        "id": "j2HOmSzmKePd",
        "outputId": "1d49f96b-c075-4f63-e808-4ae32d586b36"
      },
      "execution_count": 3,
      "outputs": [
        {
          "output_type": "stream",
          "name": "stdout",
          "text": [
            "✅ Email Sent (Simulated)\n",
            "From: jessegudino@gmail.com\n",
            "To: jessegudino@gmail.com\n",
            "Subject: Final Project Confirmation\n",
            "Body: SGkgSmVzc2UsCgpUaGlzIGlzIGEgY29uZmlybWF0aW9uIHRoYXQgeW91ciBmaW5hbCBwcm9qZWN0\n",
            "IGZvciBJVEFJIDIzNzYgaGFzIGJlZW4gc3VjY2Vzc2Z1bGx5IGNyZWF0ZWQgYW5kIGF1dG9tYXRl\n",
            "ZCB1c2luZyBQeXRob24uCgrigJMgU3R1ZGlvQm90IChZb3VyIEFJIEFzc2lzdGFudCkK\n",
            "\n"
          ]
        }
      ]
    },
    {
      "cell_type": "code",
      "source": [
        "from datetime import datetime\n",
        "\n",
        "now = datetime.now()\n",
        "timestamp = now.strftime(\"%Y-%m-%d %H:%M:%S\")\n",
        "print(\"\\n📅 Email sent at:\", timestamp)\n"
      ],
      "metadata": {
        "colab": {
          "base_uri": "https://localhost:8080/"
        },
        "id": "7EyuwU2SKeSE",
        "outputId": "738f6a73-d796-44db-af33-27858c1dda8f"
      },
      "execution_count": 4,
      "outputs": [
        {
          "output_type": "stream",
          "name": "stdout",
          "text": [
            "\n",
            "📅 Email sent at: 2025-07-20 18:48:30\n"
          ]
        }
      ]
    }
  ]
}